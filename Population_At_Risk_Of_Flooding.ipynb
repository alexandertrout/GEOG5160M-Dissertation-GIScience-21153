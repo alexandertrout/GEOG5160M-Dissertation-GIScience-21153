{
 "cells": [
  {
   "cell_type": "code",
   "execution_count": 2,
   "metadata": {},
   "outputs": [],
   "source": [
    "import requests\n",
    "import json\n",
    "import pandas\n",
    "import geopandas"
   ]
  },
  {
   "cell_type": "markdown",
   "metadata": {},
   "source": [
    "### Load in OA data for Leeds\n",
    "- https://geoportal.statistics.gov.uk/datasets/6beafcfd9b9c4c9993a06b6b199d7e6d/explore?location=53.797284%2C-1.541437%2C11.68"
   ]
  },
  {
   "cell_type": "code",
   "execution_count": 10,
   "metadata": {},
   "outputs": [],
   "source": [
    "# read in OAs (UK Wide File) within leeds bounds (Read in LAD file)\n",
    "Leeds_Boundary_gdf = geopandas.read_file(\"Data/Boundaries/BoundaryData_Leeds/england_ltla_2022.shp\")\n",
    "bbox = Leeds_Boundary_gdf.bounds\n",
    "\n",
    "# calculate total bounds & construct tuple to use when reading in a subset of a file in geopandas\n",
    "min_x = bbox['minx'].min()\n",
    "min_y = bbox['miny'].min()\n",
    "max_x = bbox['maxx'].max()\n",
    "max_y = bbox['maxy'].max()\n",
    "bbox_tuple = (min_x, min_y, max_x, max_y)\n",
    "\n",
    "# read in OAs\n",
    "Leeds_OA_gdf = geopandas.read_file('Data/Boundaries/OA_Boundaries/Output_Areas_2021_EW_BGC_V2_-6055784085649114951.gpkg', bbox=bbox_tuple)"
   ]
  },
  {
   "cell_type": "markdown",
   "metadata": {},
   "source": [
    "### Load in surface water suceptability dataset tiles\n",
    "#### Merge together and clip to the Leeds boundary"
   ]
  },
  {
   "cell_type": "code",
   "execution_count": 8,
   "metadata": {},
   "outputs": [],
   "source": [
    "def merge_floodng_files(folder, tiles, extent):\n",
    "    gdfs = []\n",
    "    for tile in tiles:\n",
    "        file = f'{folder}/RoFSW-{tile}/RoFSW_{tile}_Extent_{extent}.shp'\n",
    "        gdfs.append(geopandas.read_file(file))\n",
    "    gdf = pandas.concat(gdfs)\n",
    "    gdf = gdf.set_crs(27700)\n",
    "    # gdf.to_crs(4326, inplace = True)\n",
    "    gdf = gdf.drop_duplicates()\n",
    "\n",
    "    return gdf\n",
    "\n",
    "tiles = [\n",
    "    'SE44',\n",
    "    'SE43',\n",
    "    'SE42',\n",
    "    'SE34',\n",
    "    'SE33',\n",
    "    'SE32',\n",
    "    'SE24',\n",
    "    'SE23',\n",
    "    'SE22',\n",
    "    'SE14',\n",
    "    'SE13',\n",
    "    'SE12',\n",
    "]\n",
    "\n",
    "Surface_Water_Flooding_gdf = merge_floodng_files('Data/Flooding', tiles, '1in100')\n",
    "Surface_Water_Flooding_gdf.to_file(\"Data/Processed/Leeds_RoFSW_Extent_1in100.geojson\", driver=\"GeoJSON\")\n",
    "\n",
    "# Clip to leeds bounds\n",
    "clipped_surface_water_flooding_gdf = geopandas.clip(Surface_Water_Flooding_gdf, Leeds_Boundary_gdf)\n",
    "clipped_surface_water_flooding_gdf.to_file(\"Data/Processed/Leeds_RoFSW_Extent_1in100_Clipped.geojson\", driver=\"GeoJSON\")"
   ]
  },
  {
   "cell_type": "markdown",
   "metadata": {},
   "source": [
    "### Load in OSM Building polygons"
   ]
  },
  {
   "cell_type": "code",
   "execution_count": 12,
   "metadata": {},
   "outputs": [
    {
     "ename": "DriverError",
     "evalue": "'Data/Processed/Leeds_Residential_Buildings.json' not recognized as a supported file format.",
     "output_type": "error",
     "traceback": [
      "\u001b[0;31m---------------------------------------------------------------------------\u001b[0m",
      "\u001b[0;31mCPLE_OpenFailedError\u001b[0m                      Traceback (most recent call last)",
      "File \u001b[0;32mfiona/ogrext.pyx:136\u001b[0m, in \u001b[0;36mfiona.ogrext.gdal_open_vector\u001b[0;34m()\u001b[0m\n",
      "File \u001b[0;32mfiona/_err.pyx:291\u001b[0m, in \u001b[0;36mfiona._err.exc_wrap_pointer\u001b[0;34m()\u001b[0m\n",
      "\u001b[0;31mCPLE_OpenFailedError\u001b[0m: 'Data/Processed/Leeds_Residential_Buildings.json' not recognized as a supported file format.",
      "\nDuring handling of the above exception, another exception occurred:\n",
      "\u001b[0;31mDriverError\u001b[0m                               Traceback (most recent call last)",
      "Cell \u001b[0;32mIn[12], line 37\u001b[0m\n\u001b[1;32m     34\u001b[0m     \u001b[38;5;28;01melse\u001b[39;00m:\n\u001b[1;32m     35\u001b[0m         \u001b[38;5;28mprint\u001b[39m(\u001b[38;5;124mf\u001b[39m\u001b[38;5;124m\"\u001b[39m\u001b[38;5;124mError: \u001b[39m\u001b[38;5;132;01m{\u001b[39;00mresponse\u001b[38;5;241m.\u001b[39mstatus_code\u001b[38;5;132;01m}\u001b[39;00m\u001b[38;5;124m\"\u001b[39m)\n\u001b[0;32m---> 37\u001b[0m \u001b[43mget_osm_buildings\u001b[49m\u001b[43m(\u001b[49m\u001b[43m)\u001b[49m\n",
      "Cell \u001b[0;32mIn[12], line 31\u001b[0m, in \u001b[0;36mget_osm_buildings\u001b[0;34m()\u001b[0m\n\u001b[1;32m     28\u001b[0m     \u001b[38;5;28;01mwith\u001b[39;00m \u001b[38;5;28mopen\u001b[39m(buildings_file_path, \u001b[38;5;124m'\u001b[39m\u001b[38;5;124mw\u001b[39m\u001b[38;5;124m'\u001b[39m) \u001b[38;5;28;01mas\u001b[39;00m f:\n\u001b[1;32m     29\u001b[0m         json\u001b[38;5;241m.\u001b[39mdump(data, f)\n\u001b[0;32m---> 31\u001b[0m     \u001b[43mgeopandas\u001b[49m\u001b[38;5;241;43m.\u001b[39;49m\u001b[43mread_file\u001b[49m\u001b[43m(\u001b[49m\u001b[43mbuildings_file_path\u001b[49m\u001b[43m)\u001b[49m\n\u001b[1;32m     34\u001b[0m \u001b[38;5;28;01melse\u001b[39;00m:\n\u001b[1;32m     35\u001b[0m     \u001b[38;5;28mprint\u001b[39m(\u001b[38;5;124mf\u001b[39m\u001b[38;5;124m\"\u001b[39m\u001b[38;5;124mError: \u001b[39m\u001b[38;5;132;01m{\u001b[39;00mresponse\u001b[38;5;241m.\u001b[39mstatus_code\u001b[38;5;132;01m}\u001b[39;00m\u001b[38;5;124m\"\u001b[39m)\n",
      "File \u001b[0;32m~/opt/anaconda3/envs/mac_conda_py3_10/lib/python3.10/site-packages/geopandas/io/file.py:297\u001b[0m, in \u001b[0;36m_read_file\u001b[0;34m(filename, bbox, mask, rows, engine, **kwargs)\u001b[0m\n\u001b[1;32m    294\u001b[0m     \u001b[38;5;28;01melse\u001b[39;00m:\n\u001b[1;32m    295\u001b[0m         path_or_bytes \u001b[38;5;241m=\u001b[39m filename\n\u001b[0;32m--> 297\u001b[0m     \u001b[38;5;28;01mreturn\u001b[39;00m \u001b[43m_read_file_fiona\u001b[49m\u001b[43m(\u001b[49m\n\u001b[1;32m    298\u001b[0m \u001b[43m        \u001b[49m\u001b[43mpath_or_bytes\u001b[49m\u001b[43m,\u001b[49m\u001b[43m \u001b[49m\u001b[43mfrom_bytes\u001b[49m\u001b[43m,\u001b[49m\u001b[43m \u001b[49m\u001b[43mbbox\u001b[49m\u001b[38;5;241;43m=\u001b[39;49m\u001b[43mbbox\u001b[49m\u001b[43m,\u001b[49m\u001b[43m \u001b[49m\u001b[43mmask\u001b[49m\u001b[38;5;241;43m=\u001b[39;49m\u001b[43mmask\u001b[49m\u001b[43m,\u001b[49m\u001b[43m \u001b[49m\u001b[43mrows\u001b[49m\u001b[38;5;241;43m=\u001b[39;49m\u001b[43mrows\u001b[49m\u001b[43m,\u001b[49m\u001b[43m \u001b[49m\u001b[38;5;241;43m*\u001b[39;49m\u001b[38;5;241;43m*\u001b[39;49m\u001b[43mkwargs\u001b[49m\n\u001b[1;32m    299\u001b[0m \u001b[43m    \u001b[49m\u001b[43m)\u001b[49m\n\u001b[1;32m    301\u001b[0m \u001b[38;5;28;01melse\u001b[39;00m:\n\u001b[1;32m    302\u001b[0m     \u001b[38;5;28;01mraise\u001b[39;00m \u001b[38;5;167;01mValueError\u001b[39;00m(\u001b[38;5;124mf\u001b[39m\u001b[38;5;124m\"\u001b[39m\u001b[38;5;124munknown engine \u001b[39m\u001b[38;5;124m'\u001b[39m\u001b[38;5;132;01m{\u001b[39;00mengine\u001b[38;5;132;01m}\u001b[39;00m\u001b[38;5;124m'\u001b[39m\u001b[38;5;124m\"\u001b[39m)\n",
      "File \u001b[0;32m~/opt/anaconda3/envs/mac_conda_py3_10/lib/python3.10/site-packages/geopandas/io/file.py:338\u001b[0m, in \u001b[0;36m_read_file_fiona\u001b[0;34m(path_or_bytes, from_bytes, bbox, mask, rows, where, **kwargs)\u001b[0m\n\u001b[1;32m    335\u001b[0m     reader \u001b[38;5;241m=\u001b[39m fiona\u001b[38;5;241m.\u001b[39mopen\n\u001b[1;32m    337\u001b[0m \u001b[38;5;28;01mwith\u001b[39;00m fiona_env():\n\u001b[0;32m--> 338\u001b[0m     \u001b[38;5;28;01mwith\u001b[39;00m \u001b[43mreader\u001b[49m\u001b[43m(\u001b[49m\u001b[43mpath_or_bytes\u001b[49m\u001b[43m,\u001b[49m\u001b[43m \u001b[49m\u001b[38;5;241;43m*\u001b[39;49m\u001b[38;5;241;43m*\u001b[39;49m\u001b[43mkwargs\u001b[49m\u001b[43m)\u001b[49m \u001b[38;5;28;01mas\u001b[39;00m features:\n\u001b[1;32m    339\u001b[0m         crs \u001b[38;5;241m=\u001b[39m features\u001b[38;5;241m.\u001b[39mcrs_wkt\n\u001b[1;32m    340\u001b[0m         \u001b[38;5;66;03m# attempt to get EPSG code\u001b[39;00m\n",
      "File \u001b[0;32m~/opt/anaconda3/envs/mac_conda_py3_10/lib/python3.10/site-packages/fiona/env.py:457\u001b[0m, in \u001b[0;36mensure_env_with_credentials.<locals>.wrapper\u001b[0;34m(*args, **kwds)\u001b[0m\n\u001b[1;32m    454\u001b[0m     session \u001b[38;5;241m=\u001b[39m DummySession()\n\u001b[1;32m    456\u001b[0m \u001b[38;5;28;01mwith\u001b[39;00m env_ctor(session\u001b[38;5;241m=\u001b[39msession):\n\u001b[0;32m--> 457\u001b[0m     \u001b[38;5;28;01mreturn\u001b[39;00m \u001b[43mf\u001b[49m\u001b[43m(\u001b[49m\u001b[38;5;241;43m*\u001b[39;49m\u001b[43margs\u001b[49m\u001b[43m,\u001b[49m\u001b[43m \u001b[49m\u001b[38;5;241;43m*\u001b[39;49m\u001b[38;5;241;43m*\u001b[39;49m\u001b[43mkwds\u001b[49m\u001b[43m)\u001b[49m\n",
      "File \u001b[0;32m~/opt/anaconda3/envs/mac_conda_py3_10/lib/python3.10/site-packages/fiona/__init__.py:292\u001b[0m, in \u001b[0;36mopen\u001b[0;34m(fp, mode, driver, schema, crs, encoding, layer, vfs, enabled_drivers, crs_wkt, allow_unsupported_drivers, **kwargs)\u001b[0m\n\u001b[1;32m    289\u001b[0m     path \u001b[38;5;241m=\u001b[39m parse_path(fp)\n\u001b[1;32m    291\u001b[0m \u001b[38;5;28;01mif\u001b[39;00m mode \u001b[38;5;129;01min\u001b[39;00m (\u001b[38;5;124m\"\u001b[39m\u001b[38;5;124ma\u001b[39m\u001b[38;5;124m\"\u001b[39m, \u001b[38;5;124m\"\u001b[39m\u001b[38;5;124mr\u001b[39m\u001b[38;5;124m\"\u001b[39m):\n\u001b[0;32m--> 292\u001b[0m     colxn \u001b[38;5;241m=\u001b[39m \u001b[43mCollection\u001b[49m\u001b[43m(\u001b[49m\n\u001b[1;32m    293\u001b[0m \u001b[43m        \u001b[49m\u001b[43mpath\u001b[49m\u001b[43m,\u001b[49m\n\u001b[1;32m    294\u001b[0m \u001b[43m        \u001b[49m\u001b[43mmode\u001b[49m\u001b[43m,\u001b[49m\n\u001b[1;32m    295\u001b[0m \u001b[43m        \u001b[49m\u001b[43mdriver\u001b[49m\u001b[38;5;241;43m=\u001b[39;49m\u001b[43mdriver\u001b[49m\u001b[43m,\u001b[49m\n\u001b[1;32m    296\u001b[0m \u001b[43m        \u001b[49m\u001b[43mencoding\u001b[49m\u001b[38;5;241;43m=\u001b[39;49m\u001b[43mencoding\u001b[49m\u001b[43m,\u001b[49m\n\u001b[1;32m    297\u001b[0m \u001b[43m        \u001b[49m\u001b[43mlayer\u001b[49m\u001b[38;5;241;43m=\u001b[39;49m\u001b[43mlayer\u001b[49m\u001b[43m,\u001b[49m\n\u001b[1;32m    298\u001b[0m \u001b[43m        \u001b[49m\u001b[43menabled_drivers\u001b[49m\u001b[38;5;241;43m=\u001b[39;49m\u001b[43menabled_drivers\u001b[49m\u001b[43m,\u001b[49m\n\u001b[1;32m    299\u001b[0m \u001b[43m        \u001b[49m\u001b[43mallow_unsupported_drivers\u001b[49m\u001b[38;5;241;43m=\u001b[39;49m\u001b[43mallow_unsupported_drivers\u001b[49m\u001b[43m,\u001b[49m\n\u001b[1;32m    300\u001b[0m \u001b[43m        \u001b[49m\u001b[38;5;241;43m*\u001b[39;49m\u001b[38;5;241;43m*\u001b[39;49m\u001b[43mkwargs\u001b[49m\n\u001b[1;32m    301\u001b[0m \u001b[43m    \u001b[49m\u001b[43m)\u001b[49m\n\u001b[1;32m    302\u001b[0m \u001b[38;5;28;01melif\u001b[39;00m mode \u001b[38;5;241m==\u001b[39m \u001b[38;5;124m\"\u001b[39m\u001b[38;5;124mw\u001b[39m\u001b[38;5;124m\"\u001b[39m:\n\u001b[1;32m    303\u001b[0m     colxn \u001b[38;5;241m=\u001b[39m Collection(\n\u001b[1;32m    304\u001b[0m         path,\n\u001b[1;32m    305\u001b[0m         mode,\n\u001b[0;32m   (...)\u001b[0m\n\u001b[1;32m    314\u001b[0m         \u001b[38;5;241m*\u001b[39m\u001b[38;5;241m*\u001b[39mkwargs\n\u001b[1;32m    315\u001b[0m     )\n",
      "File \u001b[0;32m~/opt/anaconda3/envs/mac_conda_py3_10/lib/python3.10/site-packages/fiona/collection.py:243\u001b[0m, in \u001b[0;36mCollection.__init__\u001b[0;34m(self, path, mode, driver, schema, crs, encoding, layer, vsi, archive, enabled_drivers, crs_wkt, ignore_fields, ignore_geometry, include_fields, wkt_version, allow_unsupported_drivers, **kwargs)\u001b[0m\n\u001b[1;32m    241\u001b[0m \u001b[38;5;28;01mif\u001b[39;00m \u001b[38;5;28mself\u001b[39m\u001b[38;5;241m.\u001b[39mmode \u001b[38;5;241m==\u001b[39m \u001b[38;5;124m\"\u001b[39m\u001b[38;5;124mr\u001b[39m\u001b[38;5;124m\"\u001b[39m:\n\u001b[1;32m    242\u001b[0m     \u001b[38;5;28mself\u001b[39m\u001b[38;5;241m.\u001b[39msession \u001b[38;5;241m=\u001b[39m Session()\n\u001b[0;32m--> 243\u001b[0m     \u001b[38;5;28;43mself\u001b[39;49m\u001b[38;5;241;43m.\u001b[39;49m\u001b[43msession\u001b[49m\u001b[38;5;241;43m.\u001b[39;49m\u001b[43mstart\u001b[49m\u001b[43m(\u001b[49m\u001b[38;5;28;43mself\u001b[39;49m\u001b[43m,\u001b[49m\u001b[43m \u001b[49m\u001b[38;5;241;43m*\u001b[39;49m\u001b[38;5;241;43m*\u001b[39;49m\u001b[43mkwargs\u001b[49m\u001b[43m)\u001b[49m\n\u001b[1;32m    244\u001b[0m \u001b[38;5;28;01melif\u001b[39;00m \u001b[38;5;28mself\u001b[39m\u001b[38;5;241m.\u001b[39mmode \u001b[38;5;129;01min\u001b[39;00m (\u001b[38;5;124m\"\u001b[39m\u001b[38;5;124ma\u001b[39m\u001b[38;5;124m\"\u001b[39m, \u001b[38;5;124m\"\u001b[39m\u001b[38;5;124mw\u001b[39m\u001b[38;5;124m\"\u001b[39m):\n\u001b[1;32m    245\u001b[0m     \u001b[38;5;28mself\u001b[39m\u001b[38;5;241m.\u001b[39msession \u001b[38;5;241m=\u001b[39m WritingSession()\n",
      "File \u001b[0;32mfiona/ogrext.pyx:588\u001b[0m, in \u001b[0;36mfiona.ogrext.Session.start\u001b[0;34m()\u001b[0m\n",
      "File \u001b[0;32mfiona/ogrext.pyx:143\u001b[0m, in \u001b[0;36mfiona.ogrext.gdal_open_vector\u001b[0;34m()\u001b[0m\n",
      "\u001b[0;31mDriverError\u001b[0m: 'Data/Processed/Leeds_Residential_Buildings.json' not recognized as a supported file format."
     ]
    }
   ],
   "source": [
    "def get_osm_residential_buildings():\n",
    "    # Overpass API endpoint\n",
    "    overpass_url = \"http://overpass-api.de/api/interpreter\"\n",
    "\n",
    "    # Overpass QL query to get residential buildings in Leeds\n",
    "    overpass_query = \"\"\"\n",
    "    [out:json][timeout:60];\n",
    "    area[name=\"Leeds\"]->.searchArea;\n",
    "    (\n",
    "    way[\"building\"~\"^(house|residential|apartments|detached|semidetached_house|terrace|dormitory|bungalow|static_caravan)$\"](area.searchArea);\n",
    "    relation[\"building\"~\"^(house|residential|apartments|detached|semidetached_house|terrace|dormitory|bungalow|static_caravan)$\"](area.searchArea);\n",
    "    );\n",
    "    out body;\n",
    "    >;\n",
    "    out skel qt;\n",
    "    \"\"\"\n",
    "\n",
    "    # Make the request to the Overpass API\n",
    "    response = requests.get(overpass_url, params={'data': overpass_query})\n",
    "\n",
    "    # Check if the request was successful, load the data, and save to geojson file\n",
    "    if response.status_code == 200:\n",
    "        data = response.json()\n",
    "\n",
    "        buildings_file_path = 'Data/Processed/Leeds_Residential_Buildings.json'\n",
    "\n",
    "        # Save the response to a GeoJSON file\n",
    "        with open(buildings_file_path, 'w') as f:\n",
    "            json.dump(data, f)\n",
    "\n",
    "        geopandas.read_file(buildings_file_path)\n",
    "\n",
    "        \n",
    "    else:\n",
    "        print(f\"Error: {response.status_code}\")\n",
    "\n",
    "get_osm_residential_buildings()"
   ]
  },
  {
   "cell_type": "markdown",
   "metadata": {},
   "source": [
    "### Estimate residential population per building"
   ]
  },
  {
   "cell_type": "code",
   "execution_count": 5,
   "metadata": {},
   "outputs": [],
   "source": [
    "import geopandas.tools\n",
    "import pandas\n",
    "import json\n",
    "from shapely.geometry import Polygon\n",
    "import overpy\n",
    "from shapely.geometry import Polygon, MultiPolygon\n",
    "\n",
    "# Open the JSON file and load it into a dictionary\n",
    "with open('Data/Processed/Leeds_Residential_Buildings.json', 'r') as file:\n",
    "    data = json.load(file)\n",
    "\n",
    "    # Extract elements from the response\n",
    "    ways = [element for element in data['elements'] if element['type'] == 'way']\n",
    "    nodes = {element['id']: (element['lon'], element['lat']) for element in data['elements'] if element['type'] == 'node'}\n",
    "\n",
    "    # Function to construct a polygon from a way\n",
    "    def way_to_polygon(way, nodes):\n",
    "        coords = [(nodes[node_id][0], nodes[node_id][1]) for node_id in way['nodes'] if node_id in nodes]\n",
    "        if len(coords) < 3:\n",
    "            return None  # Not enough points to form a polygon\n",
    "        return Polygon(coords)\n",
    "\n",
    "    # Convert ways to polygons\n",
    "    polygons = [way_to_polygon(way, nodes) for way in ways if way_to_polygon(way, nodes)]\n",
    "\n",
    "    # Create a GeoDataFrame\n",
    "    df = pandas.DataFrame({'geometry': polygons})\n",
    "    buildings_gdf = geopandas.GeoDataFrame(df, geometry='geometry', crs='EPSG:4326')\n",
    "    buildings_gdf.to_file('Data/Processed/Leeds_OSM_Buildings.geojson', driver=\"GeoJSON\")\n"
   ]
  },
  {
   "cell_type": "code",
   "execution_count": 11,
   "metadata": {},
   "outputs": [
    {
     "name": "stderr",
     "output_type": "stream",
     "text": [
      "/var/folders/sz/n80kgmcs43b6swmgv_64_48c0000gn/T/ipykernel_9605/3021250100.py:2: UserWarning: Geometry column does not contain geometry.\n",
      "  buildings_gdf['geometry'] = buildings_gdf.to_crs(27700)\n",
      "/Users/alexandertrout/opt/anaconda3/envs/mac_conda_py3_10/lib/python3.10/site-packages/IPython/core/interactiveshell.py:3490: FutureWarning: The `op` parameter is deprecated and will be removed in a future release. Please use the `predicate` parameter instead.\n",
      "  if await self.run_code(code, result, async_=asy):\n"
     ]
    }
   ],
   "source": [
    "# convert geometry into British national Grid for more accurate spatial join\n",
    "buildings_gdf['geometry'] = buildings_gdf.to_crs(27700)\n",
    "\n",
    "# Join the OA gdf to the census data at OA level - https://www.nomisweb.co.uk/sources/census_2021_bulk#:~:text=2021%20Census%20Bulk%20Data%20Download,following%20on%20row%202%20onwards.\n",
    "census_population_df = pandas.read_csv('Data/Census/census2021-ts007a-oa.csv')\n",
    "Leeds_OA_gdf = Leeds_OA_gdf.merge(census_population_df, left_on='OA21CD', right_on='geography')\n",
    "\n",
    "# Spatial join the OAs to the buildings, keeping all the buildings in the join and duplicating the OA properties onto each\n",
    "joined_gdf = geopandas.sjoin(buildings_gdf, Leeds_OA_gdf, how='left', op='intersects')\n",
    "\n",
    "# Calculate the area of each building\n",
    "joined_gdf['building_area'] = joined_gdf['geometry'].area\n",
    "\n",
    "# Get the total area of buildings that intersect each OA \n",
    "# Group by the OA each building falls within, creating a new df with a column for total area of buildings within each OA\n",
    "# Merge the total building areas back to the buildings gdf\n",
    "oa_building_area = joined_gdf.groupby('OA21CD')['building_area'].sum().reset_index()\n",
    "oa_building_area.rename(columns={'building_area': 'total_oa_building_area'}, inplace=True)\n",
    "joined_gdf = joined_gdf.merge(oa_building_area, on='OA21CD', how='left')\n",
    "\n",
    "# Add a column called building population by doing this calculation = ((Census total population of the OA / total area of buildings) * individual building area)\n",
    "joined_gdf['building_population'] = ((joined_gdf['Age: Total'] / joined_gdf['total_oa_building_area']) * joined_gdf['building_area']).fillna(0)\n",
    "\n",
    "# Name the gdf appropriately\n",
    "building_population_gdf = joined_gdf\n",
    "\n",
    "# Clip to leeds bounds\n",
    "clipped_building_population_gdf = geopandas.clip(building_population_gdf, Leeds_Boundary_gdf)\n",
    "\n",
    "# Remove unused columns\n",
    "columns_to_keep = ['geometry', 'OA21CD', 'building_population']\n",
    "clipped_building_population_gdf = clipped_building_population_gdf[columns_to_keep]\n",
    "\n",
    "# Save file\n",
    "clipped_building_population_gdf.to_file(\"Data/Processed/Leeds_Residential_Buildings_Population.geojson\", driver=\"GeoJSON\")"
   ]
  },
  {
   "cell_type": "code",
   "execution_count": 12,
   "metadata": {},
   "outputs": [
    {
     "name": "stderr",
     "output_type": "stream",
     "text": [
      "/Users/alexandertrout/opt/anaconda3/envs/mac_conda_py3_10/lib/python3.10/site-packages/IPython/core/interactiveshell.py:3490: FutureWarning: The `op` parameter is deprecated and will be removed in a future release. Please use the `predicate` parameter instead.\n",
      "  if await self.run_code(code, result, async_=asy):\n"
     ]
    }
   ],
   "source": [
    "# // clip buildings gdf flooding gdf keep any buoldings that intersect\n",
    "building_populations_at_risk_of_flooding_gdf = geopandas.sjoin(clipped_building_population_gdf, clipped_surface_water_flooding_gdf, how=\"inner\", op=\"intersects\")\n",
    "\n",
    "# // save the result to a file\n",
    "building_populations_at_risk_of_flooding_gdf.to_file(\"building_populations_at_risk_of_flooding_gdf.geojson\", driver=\"GeoJSON\")"
   ]
  },
  {
   "cell_type": "code",
   "execution_count": 21,
   "metadata": {},
   "outputs": [],
   "source": [
    "# // generate the values for output\n",
    "total_building_pop = clipped_building_population_gdf['building_population'].sum()\n",
    "total_building_pop_at_risk = building_populations_at_risk_of_flooding_gdf['building_population'].sum()\n",
    "building_pop_risk_percentage = (total_building_pop_at_risk / total_building_pop) * 100\n",
    "total_building_count = len(clipped_building_population_gdf)\n",
    "total_building_count_at_risk = len(building_populations_at_risk_of_flooding_gdf)\n",
    "total_building_risk_percentage = (total_building_count_at_risk / total_building_count) * 100\n",
    "population_per_building_total = total_building_pop / total_building_count\n",
    "population_per_building_at_risk = total_building_pop_at_risk / total_building_count_at_risk\n",
    "\n",
    "# arrange the values and create the pandas dataframe\n",
    "data = {\n",
    "    \"\": [\"Total\", \"At Risk\", \"Percentage\"],\n",
    "    \"Building Count\": [total_building_count, total_building_count_at_risk, total_building_risk_percentage],\n",
    "    \"Population Total\": [total_building_pop, total_building_pop_at_risk, building_pop_risk_percentage],\n",
    "    \"Population Per Building\": [f\"{population_per_building_total:.2f}\", f\"{population_per_building_at_risk:.2f}\", \"\"]\n",
    "}\n",
    "df = pandas.DataFrame(data)\n",
    "\n",
    "df.to_csv('Data/Processed/building_population_risk_results_table.csv')\n"
   ]
  },
  {
   "cell_type": "markdown",
   "metadata": {},
   "source": [
    "### Intersect building outlines with surface water suceptability layer"
   ]
  }
 ],
 "metadata": {
  "kernelspec": {
   "display_name": "mac_conda_py3_10",
   "language": "python",
   "name": "python3"
  },
  "language_info": {
   "codemirror_mode": {
    "name": "ipython",
    "version": 3
   },
   "file_extension": ".py",
   "mimetype": "text/x-python",
   "name": "python",
   "nbconvert_exporter": "python",
   "pygments_lexer": "ipython3",
   "version": "3.10.12"
  }
 },
 "nbformat": 4,
 "nbformat_minor": 2
}
